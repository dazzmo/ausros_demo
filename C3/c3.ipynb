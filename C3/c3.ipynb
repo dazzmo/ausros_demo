{
 "cells": [
  {
   "cell_type": "markdown",
   "metadata": {},
   "source": [
    "### Installing Packages\n",
    "We will be installing the rigid-body dynamics library `Pinocchio`, as well as tools to access and visualise robot models,\n",
    "* The Pinocchio Library\n",
    "\n",
    "```python\n",
    "pip install pin\n",
    "```\n",
    "\n",
    "Install an example set of robotic systems (containing URDF files and their accompanying visual and geometric files)\n",
    "\n",
    "```python\n",
    "pip install example-robot-data\n",
    "```\n",
    "\n",
    "Install Meshcat, a visualisation library to display the URDF models\n",
    "\n",
    "```python\n",
    "pip install meshcat\n",
    "```"
   ]
  },
  {
   "cell_type": "markdown",
   "metadata": {},
   "source": [
    "## Starting Example\n",
    "Here we will load the manipulator [Panda](https://robodk.com/robot/Franka/Emika-Panda) and load it into the Meshcat visualiser with a desired configuration."
   ]
  },
  {
   "cell_type": "code",
   "execution_count": null,
   "metadata": {},
   "outputs": [],
   "source": [
    "import pinocchio as pin\n",
    "import numpy as np\n",
    "import time\n",
    "\n",
    "from example_robot_data import load\n",
    "\n",
    "robot = load('panda')\n",
    "\n",
    "# Select the default configuration for the robot.\n",
    "q0 = robot.q0\n",
    "# Choose a random configuration within the configuration space of the model\n",
    "# q0 = pin.randomConfiguration(robot.model)\n",
    "\n",
    "# Display the model\n",
    "print(robot.model)\n",
    "\n",
    "## visualise the robot\n",
    "from pinocchio.visualize import MeshcatVisualizer\n",
    "viz = MeshcatVisualizer(robot.model, robot.collision_model, robot.visual_model)\n",
    "# Start a new MeshCat server and client.\n",
    "viz.initViewer(open=True)\n",
    "# Load the robot in the viewer.\n",
    "viz.loadViewerModel()\n",
    "# Display the robot with the initial state q0\n",
    "viz.display(q0)\n",
    "# small time window for loading the model \n",
    "# if meshcat does not visualise the robot properly, augment the time\n",
    "# it can be removed in most cases\n",
    "time.sleep(0.2) "
   ]
  },
  {
   "cell_type": "markdown",
   "metadata": {},
   "source": [
    "# Simulating the Dynamics\n",
    "We will now use the rigid-body dynamics algorithms to forward-compute the dynamics of the robot from an initial state"
   ]
  },
  {
   "cell_type": "code",
   "execution_count": 50,
   "metadata": {},
   "outputs": [
    {
     "name": "stdout",
     "output_type": "stream",
     "text": [
      "Nb joints = 10 (nq=9,nv=9)\n",
      "  Joint 0 universe: parent=0\n",
      "  Joint 1 panda_joint1: parent=0\n",
      "  Joint 2 panda_joint2: parent=1\n",
      "  Joint 3 panda_joint3: parent=2\n",
      "  Joint 4 panda_joint4: parent=3\n",
      "  Joint 5 panda_joint5: parent=4\n",
      "  Joint 6 panda_joint6: parent=5\n",
      "  Joint 7 panda_joint7: parent=6\n",
      "  Joint 8 panda_finger_joint1: parent=7\n",
      "  Joint 9 panda_finger_joint2: parent=7\n",
      "\n",
      "You can open the visualizer by visiting the following URL:\n",
      "http://127.0.0.1:7017/static/\n"
     ]
    }
   ],
   "source": [
    "import pinocchio as pin\n",
    "import numpy as np\n",
    "import time\n",
    "\n",
    "from example_robot_data import load\n",
    "\n",
    "robot = load('panda')\n",
    "\n",
    "# Select the default configuration for the robot.\n",
    "q0 = robot.q0\n",
    "# Choose a random configuration within the configuration space of the model\n",
    "# q0 = pin.randomConfiguration(robot.model)\n",
    "\n",
    "# Display the model\n",
    "print(robot.model)\n",
    "\n",
    "## visualise the robot\n",
    "from pinocchio.visualize import MeshcatVisualizer\n",
    "viz = MeshcatVisualizer(robot.model, robot.collision_model, robot.visual_model)\n",
    "# Start a new MeshCat server and client.\n",
    "viz.initViewer(open=True)\n",
    "# Load the robot in the viewer.\n",
    "viz.loadViewerModel()\n",
    "# Display the robot with the initial state q0\n",
    "viz.display(q0)\n",
    "# small time window for loading the model \n",
    "# if meshcat does not visualise the robot properly, augment the time\n",
    "# it can be removed in most cases\n",
    "time.sleep(0.2) \n",
    "\n",
    "# Create velocity and acceleration vectors to represent the state of the system\n",
    "q = np.zeros(robot.nq)\n",
    "v = np.zeros(robot.nv)\n",
    "a = np.zeros(robot.nv)\n",
    "\n",
    "# Control inputs to each joint of the robot (set to zero) \n",
    "u = np.zeros(robot.nq)\n",
    "\n",
    "\n",
    "# Simulation time (s)\n",
    "T = 3.0\n",
    "\n",
    "# Resolution (s)\n",
    "dt = 0.001\n",
    "\n",
    "# Current time\n",
    "t = 0.0\n",
    "\n",
    "# while t <= T:\n",
    "#     # Calculate the current acceleration of the robot given the configuration, velocity and input\n",
    "#     a = pin.aba(robot.model, robot.data, q, v, u)\n",
    "#     # Forward step\n",
    "#     v = v + dt * a\n",
    "#     q = q + dt * v\n",
    "    \n",
    "#     t += dt\n",
    "    \n",
    "#     viz.display(q)\n",
    "#     time.sleep(dt)"
   ]
  },
  {
   "cell_type": "markdown",
   "metadata": {},
   "source": [
    "## Adding a Controller\n",
    "Let us design a PD controller to control the arm to its nominal pose from a random configuration"
   ]
  },
  {
   "cell_type": "code",
   "execution_count": 54,
   "metadata": {},
   "outputs": [],
   "source": [
    "# Control Law u = Kp (q - qr) + Kd (v - vr)\n",
    "qr = robot.q0\n",
    "vr = np.zeros(robot.nv)\n",
    "\n",
    "Kp = np.diag([20.0, 20.0, 20.0, 20.0, 20.0, 20.0, 20.0, 20.0, 20.0])\n",
    "Kd = np.diag([1.0, 1.0, 1.0, 1.0, 1.0, 1.0, 1.0, 1.0, 1.0])\n",
    "\n",
    "t = 0.0\n",
    "frame_cnt = 0\n",
    "while t <= T:\n",
    "    # Compute control\n",
    "    u = Kp.dot(qr - q) + Kd.dot(vr - v)\n",
    "\n",
    "    # Calculate the current acceleration of the robot given the configuration, velocity and input\n",
    "    a = pin.aba(robot.model, robot.data, q, v, u)\n",
    "    \n",
    "    # Forward step\n",
    "    v = v + dt * a\n",
    "    q = q + dt * v\n",
    "    \n",
    "    t += dt\n",
    "    # Display every 24 frames\n",
    "    if frame_cnt % 30 == 0:\n",
    "        viz.display(q)\n",
    "        time.sleep(0.03)\n",
    "    \n",
    "    frame_cnt += 1"
   ]
  },
  {
   "cell_type": "markdown",
   "metadata": {},
   "source": [
    "## Create a Computed-Torque Controller\n",
    "Given the difficulty in tuning a direct PD controller, let us include torque compensation from the dynamics"
   ]
  },
  {
   "cell_type": "code",
   "execution_count": 55,
   "metadata": {},
   "outputs": [],
   "source": [
    "t = 0.0\n",
    "T = 10.0\n",
    "frame_cnt = 0\n",
    "while t <= T:\n",
    "    # Computed torque method\n",
    "    # Set desired acceleration of the system as the PD error of the state\n",
    "    ad = Kp.dot(qr - q) + Kd.dot(vr - v)\n",
    "    # Generate torque outputs that achieve these accelerations\n",
    "    u = pin.rnea(robot.model, robot.data, q, v, ad)\n",
    "\n",
    "    # Calculate the current acceleration of the robot given the configuration, velocity and input\n",
    "    a = pin.aba(robot.model, robot.data, q, v, u)\n",
    "    \n",
    "    # Forward step\n",
    "    v = v + dt * a\n",
    "    q = q + dt * v\n",
    "    \n",
    "    t += dt\n",
    "    # Display a frame roughly every 33 ms\n",
    "    if frame_cnt % 33 == 0:\n",
    "        viz.display(q)\n",
    "        time.sleep(0.033)\n",
    "    \n",
    "    frame_cnt += 1"
   ]
  }
 ],
 "metadata": {
  "kernelspec": {
   "display_name": "Python 3",
   "language": "python",
   "name": "python3"
  },
  "language_info": {
   "codemirror_mode": {
    "name": "ipython",
    "version": 3
   },
   "file_extension": ".py",
   "mimetype": "text/x-python",
   "name": "python",
   "nbconvert_exporter": "python",
   "pygments_lexer": "ipython3",
   "version": "3.10.12"
  }
 },
 "nbformat": 4,
 "nbformat_minor": 2
}
